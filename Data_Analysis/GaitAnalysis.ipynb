{
 "cells": [
  {
   "cell_type": "code",
   "execution_count": 1,
   "metadata": {
    "collapsed": true
   },
   "outputs": [],
   "source": [
    "%matplotlib inline\n",
    "import matplotlib.pyplot as plt\n",
    "import numpy as np\n",
    "import pandas as pd\n",
    "from sklearn.svm import SVC, NuSVC\n",
    "from sklearn.mixture import GaussianMixture\n",
    "from sklearn import linear_model, ensemble\n",
    "from scipy.signal import find_peaks_cwt\n",
    "from FeatureAnalysis import RescalePCA, HistFeature\n",
    "from DataProcessing import ToPythonData, CombineTrials, SubSampleData, AddNoise\n",
    "import random"
   ]
  },
  {
   "cell_type": "code",
   "execution_count": 2,
   "metadata": {
    "collapsed": false
   },
   "outputs": [
    {
     "name": "stdout",
     "output_type": "stream",
     "text": [
      "All Trials: \n",
      "normal: [1, 2, 3, 4, 5]\n",
      "fd: [1, 2, 3, 4, 5]\n",
      "hem: [1, 2, 3, 4, 5]\n",
      "injured: [1, 2, 3, 4, 5]\n"
     ]
    }
   ],
   "source": [
    "# convert all trial data and to be ready to pass in to the PCA \n",
    "gait_names = ['normal', # normal\n",
    "             'fd',# foot drop\n",
    "             'hem', #Hemiplegic Gait\n",
    "             'injured']\n",
    "# store all original data into a dictionary \n",
    "max_trials = 5\n",
    "trials = {}\n",
    "print('All Trials: ')\n",
    "for each_gait in gait_names:\n",
    "    for each_trial_num in range(1,max_trials + 1):\n",
    "        cur_trial_name = each_gait + ('_0' if max_trials < 10 else '') + str(each_trial_num)\n",
    "        trials[cur_trial_name] = ToPythonData('../Data_Collection/' + cur_trial_name + '.txt')\n",
    "    print(each_gait + ': ' + str(list(range(1,max_trials + 1))))\n",
    "all_trial_data = CombineTrials(trials)"
   ]
  },
  {
   "cell_type": "code",
   "execution_count": 3,
   "metadata": {
    "collapsed": false
   },
   "outputs": [],
   "source": [
    "# concatenate all trials for a single tpye of gait in to a larger chuck \n",
    "# and subsmaple with noise add for data augumentation\n",
    "\n",
    "# put all same type of trial into one list to prepare for data combination \n",
    "combined_trials = {}\n",
    "for trial in trials:\n",
    "    cur_type = trial[:trial.index('_')]\n",
    "    if cur_type not in combined_trials: combined_trials[cur_type] = {trial:trials[trial]}\n",
    "    else: combined_trials[cur_type][cur_type] = trials[trial]\n",
    "        \n",
    "for each_type in combined_trials:\n",
    "    combined_trials[each_type] = CombineTrials(combined_trials[each_type])"
   ]
  },
  {
   "cell_type": "code",
   "execution_count": 4,
   "metadata": {
    "collapsed": false
   },
   "outputs": [],
   "source": [
    "num_sub_each_type = 150\n",
    "len_sub_sample = 5000\n",
    "all_aug_data = {}\n",
    "for each_type in combined_trials:\n",
    "    cur_aug_data = SubSampleData(combined_trials[each_type], len_sub_sample, num_sub_each_type)\n",
    "    for idx in range(len(cur_aug_data)):\n",
    "        all_aug_data[each_type + '_' + str(idx)] = AddNoise(cur_aug_data[idx])"
   ]
  },
  {
   "cell_type": "code",
   "execution_count": 5,
   "metadata": {
    "collapsed": false
   },
   "outputs": [
    {
     "name": "stdout",
     "output_type": "stream",
     "text": [
      "dict_keys(['Gyro_y', 'Acc_z', 'Gyro_z', 'Voltage_02', 'Time', 'Voltage_01', 'Acc_x', 'Gyro_x', 'Acc_y'])\n"
     ]
    },
    {
     "data": {
      "text/plain": [
       "[<matplotlib.lines.Line2D at 0x295c44a2c18>]"
      ]
     },
     "execution_count": 5,
     "metadata": {},
     "output_type": "execute_result"
    },
    {
     "data": {
      "image/png": "[encoded data removed]",
      "text/plain": [
       "<matplotlib.figure.Figure at 0x295c44ad7f0>"
      ]
     },
     "metadata": {},
     "output_type": "display_data"
    }
   ],
   "source": [
    "all_trial_data = CombineTrials(all_aug_data)\n",
    "print(all_trial_data.keys())\n",
    "plt.figure()\n",
    "plt.plot(all_trial_data[\"Acc_x\"])"
   ]
  },
  {
   "cell_type": "code",
   "execution_count": 12,
   "metadata": {
    "collapsed": false
   },
   "outputs": [
    {
     "name": "stdout",
     "output_type": "stream",
     "text": [
      "PCA Info: \n",
      "[ 0.43926075  0.36644486  0.07950976]\n",
      "Rescale Info:\n",
      "Gyro_y: (4.2699999999999996, -4.2800000000000002)\n",
      "Acc_z: (78.469999999999999, -22.219999999999999)\n",
      "Gyro_z: (4.1799999999999997, -4.2800000000000002)\n",
      "Voltage_02: (1.1200000000000001, -0.070000000000000007)\n",
      "Voltage_01: (4.0, -0.070000000000000007)\n",
      "Acc_x: (16.890000000000001, -42.229999999999997)\n",
      "Gyro_x: (4.2800000000000002, -4.2800000000000002)\n",
      "Acc_y: (36.189999999999998, -57.609999999999999)\n",
      "Component Range: \n",
      "[-0.5  -0.5  -0.46]\n",
      "[ 0.87  0.6   0.51]\n",
      "Feature Order: No features are given\n"
     ]
    }
   ],
   "source": [
    "PCA_all = RescalePCA()\n",
    "PCA_all.processRescalePCA(CombineTrials(trials))\n",
    "print(PCA_all)"
   ]
  },
  {
   "cell_type": "code",
   "execution_count": 13,
   "metadata": {
    "collapsed": false
   },
   "outputs": [
    {
     "name": "stdout",
     "output_type": "stream",
     "text": [
      "(30, 600)\n"
     ]
    }
   ],
   "source": [
    "# combine all the trials data into HistFeatures and combined into a matrix for modeling training \n",
    "num_hist_fea_bins = 10\n",
    "test_feature_mat = np.zeros((3 * num_hist_fea_bins,len(all_aug_data)))\n",
    "actual_label = np.zeros(len(all_aug_data))\n",
    "\n",
    "trials_list = list(all_aug_data.keys())\n",
    "for idx in range(len(trials_list)):\n",
    "    cur_trial_name = trials_list[idx]\n",
    "    cur_data_dict = all_aug_data[cur_trial_name]\n",
    "    cur_data_pca = PCA_all.applyRescalePCA(cur_data_dict)\n",
    "    test_feature_mat[:,idx] = HistFeature(cur_data_pca, PCA_all.component_range, num_hist_fea_bins).T    \n",
    "    cur_gait_name = cur_trial_name[:cur_trial_name.index('_')]\n",
    "    actual_label[idx] = gait_names.index(cur_gait_name)\n",
    "print(test_feature_mat.shape)"
   ]
  },
  {
   "cell_type": "code",
   "execution_count": 173,
   "metadata": {
    "collapsed": false
   },
   "outputs": [],
   "source": [
    "# test case for testing models\n",
    "test_case_name = 'normal_01'\n",
    "test_case = ToPythonData('../Data_Collection/' + test_case_name + '.txt')\n",
    "test_in = PCA_all.applyRescalePCA(test_case)\n",
    "test_fea = HistFeature(test_in, PCA_all.component_range, num_hist_fea_bins)\n",
    "# test case 2\n",
    "test_case_2_name = 'normal_02'\n",
    "test_case_2 = AddNoise(ToPythonData('../Data_Collection/' + test_case_2_name + '.txt'))\n",
    "test_in_2 = PCA_all.applyRescalePCA(test_case_2)\n",
    "test_fea_2 = HistFeature(test_in_2, PCA_all.component_range, num_hist_fea_bins)"
   ]
  },
  {
   "cell_type": "code",
   "execution_count": 174,
   "metadata": {
    "collapsed": false
   },
   "outputs": [
    {
     "data": {
      "image/png": "[encoded data removed]",
      "text/plain": [
       "<matplotlib.figure.Figure at 0x295e83a9b70>"
      ]
     },
     "metadata": {},
     "output_type": "display_data"
    }
   ],
   "source": [
    "def VisCompareTwoPCA(pca_data_1, pca_data_2, PCA_process_obj, data_name_1, data_name_2):\n",
    "    '''two compressed pca_data, the object used to process the data, two data names for plot'''\n",
    "    fig = plt.figure(figsize=(15,10))\n",
    "    for plt_idx in range(pca_data_1.shape[1]):\n",
    "        cur_plt_range = PCA_process_obj.component_range\n",
    "        plt.subplot(3,2,2*plt_idx+1)\n",
    "        plt.title(data_name_1 + ': ' + str(plt_idx))\n",
    "        plt.hist(pca_data_1[:,plt_idx], alpha=0.5, ec = 'black', range= [cur_plt_range[0][plt_idx], cur_plt_range[1][plt_idx]] )\n",
    "        plt.subplot(3,2, 2*plt_idx+2)\n",
    "        plt.title(data_name_2 + ' with noise: ' + str(plt_idx))\n",
    "        plt.hist(pca_data_2[:,plt_idx], alpha = 0.5, ec = 'black', range= [cur_plt_range[0][plt_idx], cur_plt_range[1][plt_idx]])\n",
    "    plt.suptitle('Comparison between ' + data_name_1 + ' and ' +  data_name_2, fontsize = 15)\n",
    "    plt.tight_layout()\n",
    "    plt.subplots_adjust(top=0.90)\n",
    "\n",
    "VisCompareTwoPCA(test_in, test_in_2, PCA_all, test_case_name, test_case_2_name)"
   ]
  },
  {
   "cell_type": "code",
   "execution_count": 162,
   "metadata": {
    "collapsed": false
   },
   "outputs": [
    {
     "name": "stdout",
     "output_type": "stream",
     "text": [
      "GMM\n",
      "[[ 0.  1.  0.  0.]]\n",
      "Log\n",
      "[[ 0.82150945  0.03060957  0.03690596  0.11097503]]\n",
      "[[ 0.03049735  0.34210763  0.53222536  0.09516965]]\n",
      "SVM\n",
      "[[ 0.98383325  0.00238527  0.00363324  0.01014825]]\n",
      "[[ 0.00275427  0.07825579  0.91270317  0.00628677]]\n",
      "Ada\n",
      "[[  9.99973608e-01   2.59690867e-05   4.22998191e-07   1.01291808e-10]]\n",
      "[[  4.30066837e-10   3.78471171e-04   9.99621527e-01   1.65098061e-09]]\n"
     ]
    }
   ],
   "source": [
    "# train the GMM model \n",
    "test_gau = GaussianMixture(n_components=4, init_params='kmeans')\n",
    "test_gau.fit(test_feature_mat.T)\n",
    "pred_result = test_gau.predict_proba(test_feature_mat.T)\n",
    "# the model on the training data\n",
    "# for idx in range(len(actual_label)):\n",
    "#     print(gait_names[int(actual_label[idx])] + ': ' + str(pred_result[idx]*100)) \n",
    "# print('--------------------------')\n",
    "print('GMM')\n",
    "print(test_gau.predict_proba([test_fea]))\n",
    "\n",
    "# Test if logistc regrisson works \n",
    "test_log = linear_model.LogisticRegression()\n",
    "test_log.fit(test_feature_mat.T, actual_label)\n",
    "print('Log')\n",
    "print(test_log.predict_proba([test_fea]))\n",
    "print(test_log.predict_proba([test_fea_2]))\n",
    "\n",
    "# Support vector machine  \n",
    "test_svc = NuSVC(probability=True)\n",
    "test_svc.fit(test_feature_mat.T, actual_label)\n",
    "print('SVM')\n",
    "print(test_svc.predict_proba([test_fea]))\n",
    "print(test_svc.predict_proba([test_fea_2]))\n",
    "\n",
    "# Adaboost\n",
    "test_ada = ensemble.AdaBoostClassifier()\n",
    "test_ada.fit(test_feature_mat.T, actual_label)\n",
    "print('Ada')\n",
    "print(test_ada.predict_proba([test_fea]))\n",
    "print(test_ada.predict_proba([test_fea_2]))"
   ]
  },
  {
   "cell_type": "code",
   "execution_count": 180,
   "metadata": {
    "collapsed": false
   },
   "outputs": [],
   "source": [
    "def FFTFeature(pca_data, in_time):\n",
    "    for idx in range(pca_data.shape[1]):\n",
    "        cur_data = pca_data[:,idx]\n",
    "        # fft to find the major frequency for the current data \n",
    "        sample_freq = np.mean(1/(np.diff(in_time)))\n",
    "        sample_period = 1/sample_freq\n",
    "        sig_len = len(cur_data)\n",
    "        fft_result = np.fft.fft(cur_data)\n",
    "        sig_fft = np.abs(fft_result/sig_len)\n",
    "        \n",
    "        # plot fft freq result \n",
    "        hf_len = int(sig_len/2) \n",
    "        fft_y = sig_fft[1:hf_len + 1]\n",
    "        fft_y[1:-1] = 2 * fft_y[1:-1]\n",
    "        freq_x = sample_freq * range(0,hf_len)/sig_len\n",
    "        plt.figure(figsize= (15, 5))\n",
    "        print(fft_y)\n",
    "         \n",
    "        idx_xs = find_peaks_cwt(fft_y[freq_x < 10], np.arange(0.1, 1, 0.2))\n",
    "        \n",
    "        plt.subplot(121)\n",
    "        plt.plot(freq_x[idx_xs], fft_y[idx_xs], 'ro')\n",
    "        plt.plot(freq_x, fft_y)\n",
    "        plt.subplot(122)\n",
    "        plt.hist(fft_y[idx_xs], bins = 10, ec = 'black')\n",
    "        print(np.histogram(fft_y[idx_xs], bins = 10))\n",
    "        return None"
   ]
  },
  {
   "cell_type": "code",
   "execution_count": 181,
   "metadata": {
    "collapsed": false
   },
   "outputs": [
    {
     "data": {
      "text/plain": [
       "array([ 1,  2,  3,  4,  5,  6,  7,  8,  9, 10, 11, 12, 13, 14])"
      ]
     },
     "execution_count": 181,
     "metadata": {},
     "output_type": "execute_result"
    }
   ],
   "source": [
    "np.arange(1,15)"
   ]
  },
  {
   "cell_type": "code",
   "execution_count": 182,
   "metadata": {
    "collapsed": false
   },
   "outputs": [
    {
     "name": "stdout",
     "output_type": "stream",
     "text": [
      "[  3.03535138e-03   2.23240993e-03   2.75059652e-03 ...,   8.45622302e-05\n",
      "   5.17954770e-04   4.81471838e-05]\n",
      "(array([108,   5,   3,   3,   0,   0,   0,   0,   2,   2], dtype=int64), array([ 0.00200736,  0.02113388,  0.0402604 ,  0.05938692,  0.07851344,\n",
      "        0.09763996,  0.11676648,  0.135893  ,  0.15501952,  0.17414605,\n",
      "        0.19327257]))\n"
     ]
    },
    {
     "data": {
      "image/png": "[encoded data removed]",
      "text/plain": [
       "<matplotlib.figure.Figure at 0x295e8169dd8>"
      ]
     },
     "metadata": {},
     "output_type": "display_data"
    }
   ],
   "source": [
    "FFTFeature(test_in_2, test_case_2['Time'])"
   ]
  },
  {
   "cell_type": "code",
   "execution_count": 159,
   "metadata": {
    "collapsed": false
   },
   "outputs": [
    {
     "ename": "NameError",
     "evalue": "name 'fft_y' is not defined",
     "output_type": "error",
     "traceback": [
      "\u001b[1;31m---------------------------------------------------------------------------\u001b[0m",
      "\u001b[1;31mNameError\u001b[0m                                 Traceback (most recent call last)",
      "\u001b[1;32m<ipython-input-159-1813846e776e>\u001b[0m in \u001b[0;36m<module>\u001b[1;34m()\u001b[0m\n\u001b[0;32m      1\u001b[0m \u001b[1;31m# find the peaks and see if the recreaed wave match with the input\u001b[0m\u001b[1;33m\u001b[0m\u001b[1;33m\u001b[0m\u001b[0m\n\u001b[1;32m----> 2\u001b[1;33m \u001b[0mpeaks_idx\u001b[0m \u001b[1;33m=\u001b[0m \u001b[0mfind_peaks_cwt\u001b[0m\u001b[1;33m(\u001b[0m\u001b[0mfft_y\u001b[0m\u001b[1;33m[\u001b[0m\u001b[1;33m:\u001b[0m\u001b[1;36m2000\u001b[0m\u001b[1;33m]\u001b[0m\u001b[1;33m,\u001b[0m \u001b[1;33m[\u001b[0m\u001b[1;36m1\u001b[0m\u001b[1;33m]\u001b[0m\u001b[1;33m)\u001b[0m\u001b[1;33m\u001b[0m\u001b[0m\n\u001b[0m\u001b[0;32m      3\u001b[0m \u001b[0mplt\u001b[0m\u001b[1;33m.\u001b[0m\u001b[0mfigure\u001b[0m\u001b[1;33m(\u001b[0m\u001b[1;33m)\u001b[0m\u001b[1;33m\u001b[0m\u001b[0m\n\u001b[0;32m      4\u001b[0m \u001b[0mplt\u001b[0m\u001b[1;33m.\u001b[0m\u001b[0mplot\u001b[0m\u001b[1;33m(\u001b[0m\u001b[0mfreq_x\u001b[0m\u001b[1;33m[\u001b[0m\u001b[0mpeaks_idx\u001b[0m\u001b[1;33m]\u001b[0m\u001b[1;33m,\u001b[0m \u001b[0mfft_y\u001b[0m\u001b[1;33m[\u001b[0m\u001b[0mpeaks_idx\u001b[0m\u001b[1;33m]\u001b[0m\u001b[1;33m,\u001b[0m \u001b[1;34m'bo'\u001b[0m\u001b[1;33m)\u001b[0m\u001b[1;33m\u001b[0m\u001b[0m\n\u001b[0;32m      5\u001b[0m \u001b[0mplt\u001b[0m\u001b[1;33m.\u001b[0m\u001b[0mfigure\u001b[0m\u001b[1;33m(\u001b[0m\u001b[0mfigsize\u001b[0m\u001b[1;33m=\u001b[0m\u001b[1;33m(\u001b[0m\u001b[1;36m12\u001b[0m\u001b[1;33m,\u001b[0m\u001b[1;36m5\u001b[0m\u001b[1;33m)\u001b[0m\u001b[1;33m)\u001b[0m\u001b[1;33m\u001b[0m\u001b[0m\n",
      "\u001b[1;31mNameError\u001b[0m: name 'fft_y' is not defined"
     ]
    }
   ],
   "source": [
    "# find the peaks and see if the recreaed wave match with the input \n",
    "peaks_idx = find_peaks_cwt(fft_y[:2000], [1])\n",
    "plt.figure()\n",
    "plt.plot(freq_x[peaks_idx], fft_y[peaks_idx], 'bo')\n",
    "plt.figure(figsize=(12,5))\n",
    "plt.hist(fft_y[peaks_idx], rwidth=0.8)\n",
    "# try the two freq "
   ]
  },
  {
   "cell_type": "code",
   "execution_count": 425,
   "metadata": {
    "collapsed": false
   },
   "outputs": [
    {
     "name": "stdout",
     "output_type": "stream",
     "text": [
      "1.04597826012\n"
     ]
    }
   ],
   "source": [
    "print(np.percentile(fft_y,99.9))"
   ]
  },
  {
   "cell_type": "code",
   "execution_count": 378,
   "metadata": {
    "collapsed": false
   },
   "outputs": [
    {
     "name": "stdout",
     "output_type": "stream",
     "text": [
      "[ 142.85714286  142.85714286  125.         ...,  125.          142.85714286\n",
      "  142.85714286]\n"
     ]
    }
   ],
   "source": [
    "print(1/(np.diff(test_data['Time'])))"
   ]
  },
  {
   "cell_type": "code",
   "execution_count": 285,
   "metadata": {
    "collapsed": true
   },
   "outputs": [],
   "source": [
    "# feature engineering \n",
    "# hog like bin?\n",
    "# add max angle or vel?\n"
   ]
  }
 ],
 "metadata": {
  "kernelspec": {
   "display_name": "Python 3",
   "language": "python",
   "name": "python3"
  },
  "language_info": {
   "codemirror_mode": {
    "name": "ipython",
    "version": 3
   },
   "file_extension": ".py",
   "mimetype": "text/x-python",
   "name": "python",
   "nbconvert_exporter": "python",
   "pygments_lexer": "ipython3",
   "version": "3.5.2"
  }
 },
 "nbformat": 4,
 "nbformat_minor": 2
}
