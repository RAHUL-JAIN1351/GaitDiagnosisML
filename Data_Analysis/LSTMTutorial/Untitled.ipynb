{
 "cells": [
  {
   "cell_type": "code",
   "execution_count": 6,
   "metadata": {},
   "outputs": [],
   "source": [
    "from keras.layers import Dense, Dropout, LSTM, Embedding\n",
    "from keras.preprocessing.sequence import pad_sequences\n",
    "from keras.models import Sequential\n",
    "import pandas as pd\n",
    "import numpy as np\n",
    "from keras.utils import np_utils\n",
    "from sklearn.preprocessing import LabelEncoder"
   ]
  },
  {
   "cell_type": "code",
   "execution_count": 7,
   "metadata": {},
   "outputs": [],
   "source": [
    "input_file = 'input.csv'"
   ]
  },
  {
   "cell_type": "code",
   "execution_count": 8,
   "metadata": {},
   "outputs": [],
   "source": [
    "def load_data(test_split = 0.5):\n",
    "    df = pd.read_csv(input_file)\n",
    "    df['sequence'] = df['sequence'].apply(lambda x: [int(e) for e in x.split()])\n",
    "    df = df.reindex(np.random.permutation(df.index))\n",
    "\n",
    "    train_size = int(len(df) * (1 - test_split))\n",
    "\n",
    "    X_train = df['sequence'].values[:train_size]\n",
    "    y_train = np.array(df['target'].values[:train_size])\n",
    "    X_test = np.array(df['sequence'].values[train_size:])\n",
    "    y_test = np.array(df['target'].values[train_size:])\n",
    "    return pad_sequences(X_train), y_train, pad_sequences(X_test), y_test"
   ]
  },
  {
   "cell_type": "code",
   "execution_count": 9,
   "metadata": {},
   "outputs": [],
   "source": [
    "X_train, y_train, X_test, y_test = load_data()\n",
    "y_train[0] = 2"
   ]
  },
  {
   "cell_type": "code",
   "execution_count": 10,
   "metadata": {},
   "outputs": [
    {
     "name": "stdout",
     "output_type": "stream",
     "text": [
      "[2 0 1 1]\n"
     ]
    },
    {
     "data": {
      "text/plain": [
       "LabelEncoder()"
      ]
     },
     "execution_count": 10,
     "metadata": {},
     "output_type": "execute_result"
    }
   ],
   "source": [
    "def create_model(input_length):\n",
    "    print ('Creating model...')\n",
    "    model = Sequential()\n",
    "    model.add(LSTM(30, input_shape = (1,3)))\n",
    "    model.add(Dense(3))\n",
    "    print ('Compiling...')\n",
    "    model.compile(loss='categorical_crossentropy',\n",
    "                  optimizer='rmsprop',\n",
    "                  metrics=['accuracy'])\n",
    "    return model\n",
    "X_train, y_train, X_test, y_test = load_data()\n",
    "reshape_fun = lambda in_df: in_df.reshape((in_df.shape[0], 1, in_df.shape[1]))\n",
    "y_train[0] = 2\n",
    "X_train = reshape_fun(X_train)\n",
    "X_test = reshape_fun(X_test)\n",
    "print(y_train)\n",
    "test_encoder = LabelEncoder()\n",
    "test_encoder.fit(y_train)"
   ]
  },
  {
   "cell_type": "code",
   "execution_count": 12,
   "metadata": {},
   "outputs": [
    {
     "data": {
      "text/plain": [
       "(4, 1, 3)"
      ]
     },
     "execution_count": 12,
     "metadata": {},
     "output_type": "execute_result"
    }
   ],
   "source": [
    "X_train.shape"
   ]
  },
  {
   "cell_type": "code",
   "execution_count": 148,
   "metadata": {},
   "outputs": [
    {
     "data": {
      "text/plain": [
       "array([1, 3, 5])"
      ]
     },
     "execution_count": 148,
     "metadata": {},
     "output_type": "execute_result"
    }
   ],
   "source": [
    "unique_train = np.unique(y_train)\n",
    "unique_train + np.array([1,2,3])"
   ]
  },
  {
   "cell_type": "code",
   "execution_count": 149,
   "metadata": {},
   "outputs": [],
   "source": [
    "unique_train = np.unique(y_train)\n",
    "y_train = np_utils.to_categorical(test_encoder.transform(y_train))\n",
    "y_test = np_utils.to_categorical(np.hstack((test_encoder.transform(y_test),unique_train)))[:-3]"
   ]
  },
  {
   "cell_type": "code",
   "execution_count": 150,
   "metadata": {},
   "outputs": [
    {
     "data": {
      "text/plain": [
       "(5, 3)"
      ]
     },
     "execution_count": 150,
     "metadata": {},
     "output_type": "execute_result"
    }
   ],
   "source": [
    "y_test.shape"
   ]
  },
  {
   "cell_type": "code",
   "execution_count": 13,
   "metadata": {},
   "outputs": [
    {
     "data": {
      "text/plain": [
       "array([[[3, 2, 1]],\n",
       "\n",
       "       [[4, 3, 1]],\n",
       "\n",
       "       [[2, 2, 3]],\n",
       "\n",
       "       [[1, 2, 3]]], dtype=int32)"
      ]
     },
     "execution_count": 13,
     "metadata": {},
     "output_type": "execute_result"
    }
   ],
   "source": [
    "X_train"
   ]
  },
  {
   "cell_type": "code",
   "execution_count": 152,
   "metadata": {},
   "outputs": [
    {
     "name": "stdout",
     "output_type": "stream",
     "text": [
      "Creating model...\n",
      "Compiling...\n",
      "Fitting model...\n"
     ]
    },
    {
     "name": "stderr",
     "output_type": "stream",
     "text": [
      "/home/zhaoxizhang/miniconda3/lib/python3.6/site-packages/keras/models.py:942: UserWarning: The `nb_epoch` argument in `fit` has been renamed `epochs`.\n",
      "  warnings.warn('The `nb_epoch` argument in `fit` '\n"
     ]
    },
    {
     "name": "stdout",
     "output_type": "stream",
     "text": [
      "Train on 3 samples, validate on 1 samples\n",
      "Epoch 1/10\n",
      "3/3 [==============================] - 1s 414ms/step - loss: 0.9087 - acc: 0.6667 - val_loss: 1.1038 - val_acc: 0.0000e+00\n",
      "Epoch 2/10\n",
      "3/3 [==============================] - 0s 2ms/step - loss: 0.8571 - acc: 0.6667 - val_loss: 1.1632 - val_acc: 0.0000e+00\n",
      "Epoch 3/10\n",
      "3/3 [==============================] - 0s 6ms/step - loss: 0.7689 - acc: 0.6667 - val_loss: 1.2490 - val_acc: 0.0000e+00\n",
      "Epoch 4/10\n",
      "3/3 [==============================] - 0s 4ms/step - loss: 0.7125 - acc: 0.6667 - val_loss: 1.5357 - val_acc: 0.0000e+00\n",
      "Epoch 5/10\n",
      "3/3 [==============================] - 0s 3ms/step - loss: 0.6522 - acc: 0.6667 - val_loss: 1.8940 - val_acc: 0.0000e+00\n",
      "Epoch 6/10\n",
      "3/3 [==============================] - 0s 2ms/step - loss: 0.6086 - acc: 0.6667 - val_loss: 2.2539 - val_acc: 0.0000e+00\n",
      "Epoch 7/10\n",
      "3/3 [==============================] - 0s 4ms/step - loss: 0.5824 - acc: 0.6667 - val_loss: 4.0055 - val_acc: 0.0000e+00\n",
      "Epoch 8/10\n",
      "3/3 [==============================] - 0s 2ms/step - loss: 0.5286 - acc: 0.6667 - val_loss: 16.1181 - val_acc: 0.0000e+00\n",
      "Epoch 9/10\n",
      "3/3 [==============================] - 0s 3ms/step - loss: 5.8481 - acc: 0.6667 - val_loss: 16.1181 - val_acc: 0.0000e+00\n",
      "Epoch 10/10\n",
      "3/3 [==============================] - 0s 4ms/step - loss: 5.7909 - acc: 0.6667 - val_loss: 16.1181 - val_acc: 0.0000e+00\n",
      "5/5 [==============================] - 0s 3ms/step\n",
      "Test score: 4.975186204910278\n",
      "Test accuracy: 0.6\n"
     ]
    }
   ],
   "source": [
    "model = create_model(len(X_train[0]))\n",
    "\n",
    "print ('Fitting model...')\n",
    "hist = model.fit(X_train, y_train, batch_size=64, nb_epoch=10, validation_split = 0.1, verbose = 1)\n",
    "\n",
    "score, acc = model.evaluate(X_test, y_test, batch_size=1)\n",
    "print('Test score:', score)\n",
    "print('Test accuracy:', acc)"
   ]
  },
  {
   "cell_type": "code",
   "execution_count": 153,
   "metadata": {},
   "outputs": [
    {
     "data": {
      "text/plain": [
       "[1, 2, 3]"
      ]
     },
     "execution_count": 153,
     "metadata": {},
     "output_type": "execute_result"
    }
   ],
   "source": [
    "a = np.array([1,2,3,4])\n",
    "a.reshape((1,2,2))\n",
    "list(set([1,2,3]))"
   ]
  },
  {
   "cell_type": "code",
   "execution_count": null,
   "metadata": {},
   "outputs": [],
   "source": []
  },
  {
   "cell_type": "code",
   "execution_count": null,
   "metadata": {},
   "outputs": [],
   "source": []
  }
 ],
 "metadata": {
  "kernelspec": {
   "display_name": "Python 3",
   "language": "python",
   "name": "python3"
  },
  "language_info": {
   "codemirror_mode": {
    "name": "ipython",
    "version": 3
   },
   "file_extension": ".py",
   "mimetype": "text/x-python",
   "name": "python",
   "nbconvert_exporter": "python",
   "pygments_lexer": "ipython3",
   "version": "3.6.3"
  }
 },
 "nbformat": 4,
 "nbformat_minor": 2
}
